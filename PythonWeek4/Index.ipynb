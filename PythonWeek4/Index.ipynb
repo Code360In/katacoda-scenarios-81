{
 "cells": [
  {
   "cell_type": "markdown",
   "source": [
    "# Vodafone Coding Club Crash Course Week 4\r\n",
    "## Pandas Project\r\n",
    "\r\n",
    "This workbook will take you through the ins and outs of working with spreadsheet data in Python. "
   ],
   "metadata": {}
  },
  {
   "cell_type": "markdown",
   "source": [
    "## Downloading Pandas\r\n",
    "Pandas is a python library that allows us to work with spreadsheet data in Python. To install the Pandas library, we can run the command in the following cell. "
   ],
   "metadata": {}
  },
  {
   "cell_type": "markdown",
   "source": [
    "!python3 -m pip install pandas"
   ],
   "metadata": {}
  },
  {
   "cell_type": "markdown",
   "source": [
    "## Importing Pandas\r\n",
    "Now that we've downloaded Pandas, we now have to import the Pandas library into our code, we can do this in python using the following code "
   ],
   "metadata": {}
  },
  {
   "cell_type": "code",
   "execution_count": null,
   "source": [
    "import pandas "
   ],
   "outputs": [],
   "metadata": {}
  },
  {
   "cell_type": "markdown",
   "source": [
    "## Loading data into Pandas\r\n",
    "Now that we've imported pandas into python, let's try import some data using pandas"
   ],
   "metadata": {}
  },
  {
   "cell_type": "code",
   "execution_count": null,
   "source": [
    "# Loading example data into pandas\r\n",
    "\r\n",
    "## Write code to load example.csv into pandas"
   ],
   "outputs": [],
   "metadata": {}
  },
  {
   "cell_type": "markdown",
   "source": [
    "## Your Turn!\r\n",
    "Using the above example, import \"data.csv\" into pandas into a variable called \"data_df\""
   ],
   "metadata": {}
  },
  {
   "cell_type": "code",
   "execution_count": null,
   "source": [
    "# Your code here!\r\n"
   ],
   "outputs": [],
   "metadata": {}
  },
  {
   "cell_type": "markdown",
   "source": [
    "## Pandas functions\r\n",
    "Now that we've loaded data into Pandas, we can explore some of the functions included in pandas to explore our data. Try the following methods on the \"data_df\" variable e.g. data_df.head():\r\n",
    "\r\n",
    "1. head\r\n",
    "2. describe\r\n",
    "3. value_counts\r\n",
    "\r\n",
    "What do each of the functions do? How would one use these functions? "
   ],
   "metadata": {}
  },
  {
   "cell_type": "code",
   "execution_count": null,
   "source": [
    "# head()"
   ],
   "outputs": [],
   "metadata": {}
  },
  {
   "cell_type": "code",
   "execution_count": null,
   "source": [
    "# describe()"
   ],
   "outputs": [],
   "metadata": {}
  },
  {
   "cell_type": "code",
   "execution_count": null,
   "source": [
    "# value_counts()"
   ],
   "outputs": [],
   "metadata": {}
  },
  {
   "cell_type": "markdown",
   "source": [
    "## Visualizing Pandas Data\r\n"
   ],
   "metadata": {}
  },
  {
   "cell_type": "code",
   "execution_count": null,
   "source": [
    "# Visualizing data"
   ],
   "outputs": [],
   "metadata": {}
  },
  {
   "cell_type": "code",
   "execution_count": null,
   "source": [
    "# Finding trends"
   ],
   "outputs": [],
   "metadata": {}
  }
 ],
 "metadata": {
  "orig_nbformat": 4,
  "language_info": {
   "name": "python"
  }
 },
 "nbformat": 4,
 "nbformat_minor": 2
}