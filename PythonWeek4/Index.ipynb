{
 "cells": [
  {
   "cell_type": "markdown",
   "metadata": {},
   "source": [
    "# Vodafone Coding Club Crash Course Week 4\n",
    "## Pandas Project\n",
    "\n",
    "This workbook will take you through the ins and outs of working with spreadsheet data in Python. "
   ]
  },
  {
   "cell_type": "markdown",
   "metadata": {},
   "source": [
    "## Downloading Pandas\n",
    "Pandas is a Python library that allows us to work with spreadsheet data in Python. To install the Pandas library, we can run the command in the following cell. "
   ]
  },
  {
   "cell_type": "code",
   "execution_count": 37,
   "metadata": {},
   "outputs": [
    {
     "name": "stderr",
     "output_type": "stream",
     "text": [
      "Python was not found; run without arguments to install from the Microsoft Store, or disable this shortcut from Settings > Manage App Execution Aliases.\n"
     ]
    }
   ],
   "source": [
    "!python3 -m pip install pandas"
   ]
  },
  {
   "cell_type": "markdown",
   "metadata": {},
   "source": [
    "## Importing Pandas\n",
    "Now that we've downloaded Pandas, we now have to import the Pandas library into our code, we can do this in Python using the following code "
   ]
  },
  {
   "cell_type": "code",
   "execution_count": 38,
   "metadata": {},
   "outputs": [],
   "source": [
    "import pandas "
   ]
  },
  {
   "cell_type": "markdown",
   "metadata": {},
   "source": [
    "## Loading data into Pandas\n",
    "Now that we've imported Pandas into Python, let's try import some data using Pandas. Pandas supports both .xlsx format and .csv format, to load either file into Pandas, we can do the following:"
   ]
  },
  {
   "cell_type": "code",
   "execution_count": 39,
   "metadata": {},
   "outputs": [],
   "source": [
    "# Loading example csv and xslx data into pandas\n",
    "\n",
    "## Loading csv file 'example_csv.csv' into pandas and storing that data in the variable 'example_csv'\n",
    "example_csv_df = pandas.read_csv('example_csv.csv')\n",
    "\n",
    "## Loading xlsx file 'example_xlsx.xlsx' into pandas and storing that data in the variable 'example_xlsx'\n",
    "example_xlsx_df = pandas.read_excel('example_xlsx.xlsx')"
   ]
  },
  {
   "cell_type": "markdown",
   "metadata": {},
   "source": [
    "## Your Turn!\n",
    "Using the above example, import \"data.csv\" into pandas into a variable called \"data_df\""
   ]
  },
  {
   "cell_type": "code",
   "execution_count": 40,
   "metadata": {},
   "outputs": [],
   "source": [
    "# Your turn: create a variable data_df and load in 'data.csv'\n"
   ]
  },
  {
   "cell_type": "markdown",
   "metadata": {},
   "source": [
    "## Pandas functions\n",
    "Now that we've loaded data into Pandas, we can explore some of the functions included in pandas to explore our data. Try the following methods on the \"data_df\" variable e.g. data_df.head():\n",
    "\n",
    "1. head\n",
    "2. tail\n",
    "2. describe\n",
    "3. value_counts\n",
    "\n",
    "What do each of the functions do? How would one use these functions? "
   ]
  },
  {
   "cell_type": "code",
   "execution_count": 41,
   "metadata": {},
   "outputs": [
    {
     "data": {
      "text/html": [
       "<div>\n",
       "<style scoped>\n",
       "    .dataframe tbody tr th:only-of-type {\n",
       "        vertical-align: middle;\n",
       "    }\n",
       "\n",
       "    .dataframe tbody tr th {\n",
       "        vertical-align: top;\n",
       "    }\n",
       "\n",
       "    .dataframe thead th {\n",
       "        text-align: right;\n",
       "    }\n",
       "</style>\n",
       "<table border=\"1\" class=\"dataframe\">\n",
       "  <thead>\n",
       "    <tr style=\"text-align: right;\">\n",
       "      <th></th>\n",
       "      <th>Customer</th>\n",
       "      <th>NPS Score</th>\n",
       "      <th>Network</th>\n",
       "      <th>Customer Service</th>\n",
       "      <th>Value for Money</th>\n",
       "    </tr>\n",
       "  </thead>\n",
       "  <tbody>\n",
       "    <tr>\n",
       "      <th>0</th>\n",
       "      <td>1</td>\n",
       "      <td>9</td>\n",
       "      <td>3</td>\n",
       "      <td>5</td>\n",
       "      <td>1</td>\n",
       "    </tr>\n",
       "    <tr>\n",
       "      <th>1</th>\n",
       "      <td>2</td>\n",
       "      <td>3</td>\n",
       "      <td>3</td>\n",
       "      <td>10</td>\n",
       "      <td>9</td>\n",
       "    </tr>\n",
       "    <tr>\n",
       "      <th>2</th>\n",
       "      <td>3</td>\n",
       "      <td>8</td>\n",
       "      <td>6</td>\n",
       "      <td>9</td>\n",
       "      <td>1</td>\n",
       "    </tr>\n",
       "    <tr>\n",
       "      <th>3</th>\n",
       "      <td>4</td>\n",
       "      <td>3</td>\n",
       "      <td>10</td>\n",
       "      <td>10</td>\n",
       "      <td>8</td>\n",
       "    </tr>\n",
       "    <tr>\n",
       "      <th>4</th>\n",
       "      <td>5</td>\n",
       "      <td>4</td>\n",
       "      <td>9</td>\n",
       "      <td>10</td>\n",
       "      <td>5</td>\n",
       "    </tr>\n",
       "  </tbody>\n",
       "</table>\n",
       "</div>"
      ],
      "text/plain": [
       "   Customer  NPS Score  Network   Customer Service  Value for Money\n",
       "0         1          9         3                 5                1\n",
       "1         2          3         3                10                9\n",
       "2         3          8         6                 9                1\n",
       "3         4          3        10                10                8\n",
       "4         5          4         9                10                5"
      ]
     },
     "execution_count": 41,
     "metadata": {},
     "output_type": "execute_result"
    }
   ],
   "source": [
    "# Example:\n",
    "example_csv_df.head()"
   ]
  },
  {
   "cell_type": "code",
   "execution_count": 42,
   "metadata": {},
   "outputs": [],
   "source": [
    "# Your turn: try the head() function, what does it do?\n"
   ]
  },
  {
   "cell_type": "code",
   "execution_count": 43,
   "metadata": {},
   "outputs": [],
   "source": [
    "# Your turn: try the tail() function, what does it do?\n"
   ]
  },
  {
   "cell_type": "code",
   "execution_count": 44,
   "metadata": {},
   "outputs": [],
   "source": [
    "# Your turn: try the describe() function, what does it do?\n"
   ]
  },
  {
   "cell_type": "code",
   "execution_count": 45,
   "metadata": {},
   "outputs": [],
   "source": [
    "# Your turn: try the value_counts() function, what does it do?\n"
   ]
  },
  {
   "cell_type": "markdown",
   "metadata": {},
   "source": [
    "## Visualizing Pandas Data\n",
    "We can also visualize data in Pandas as graphs instead of tabular data. Pandas by default supports many formats, some include: line, bar, histogram, box and pie. Try test them out in code section below. "
   ]
  },
  {
   "cell_type": "code",
   "execution_count": 46,
   "metadata": {},
   "outputs": [
    {
     "data": {
      "text/plain": [
       "<matplotlib.axes._subplots.AxesSubplot at 0x1c43e152648>"
      ]
     },
     "execution_count": 46,
     "metadata": {},
     "output_type": "execute_result"
    },
    {
     "data": {
      "image/png": "[encoded data removed]",
      "text/plain": [
       "<Figure size 432x288 with 1 Axes>"
      ]
     },
     "metadata": {
      "needs_background": "light"
     },
     "output_type": "display_data"
    }
   ],
   "source": [
    "# An example line graph\n",
    "example_csv_df.plot(kind='line', title='Example Line Graph')"
   ]
  },
  {
   "cell_type": "code",
   "execution_count": 47,
   "metadata": {},
   "outputs": [],
   "source": [
    "# Your turn: Try create a line graph of data_df\n"
   ]
  },
  {
   "cell_type": "code",
   "execution_count": 48,
   "metadata": {},
   "outputs": [
    {
     "data": {
      "text/plain": [
       "<matplotlib.axes._subplots.AxesSubplot at 0x1c43e1e52c8>"
      ]
     },
     "execution_count": 48,
     "metadata": {},
     "output_type": "execute_result"
    },
    {
     "data": {
      "image/png": "[encoded data removed]",
      "text/plain": [
       "<Figure size 432x288 with 1 Axes>"
      ]
     },
     "metadata": {
      "needs_background": "light"
     },
     "output_type": "display_data"
    }
   ],
   "source": [
    "# An example box plot \n",
    "example_csv_df.plot(kind='box')"
   ]
  },
  {
   "cell_type": "code",
   "execution_count": 49,
   "metadata": {},
   "outputs": [],
   "source": [
    "# Your turn: Try create a box plot graph of data_df\n"
   ]
  },
  {
   "cell_type": "markdown",
   "metadata": {},
   "source": [
    "## Question: What is the most suitable type of graph for the example data? \n",
    "\n",
    "What plot would you use if you wanted to show this data to someone? Explain why. "
   ]
  },
  {
   "cell_type": "markdown",
   "metadata": {},
   "source": [
    "## Data Analysis\n",
    "At Vodafone, we use Python to do data analysis on our data. We can use traditional Python on our Pandas data in order to manipulate and analyze the data. In the section below we will walk through how that is done. "
   ]
  },
  {
   "cell_type": "code",
   "execution_count": 50,
   "metadata": {},
   "outputs": [
    {
     "data": {
      "text/plain": [
       "0      9\n",
       "1      3\n",
       "2      8\n",
       "3      3\n",
       "4      4\n",
       "5      2\n",
       "6      5\n",
       "7     10\n",
       "8      8\n",
       "9      8\n",
       "10     5\n",
       "11     1\n",
       "12     5\n",
       "13     5\n",
       "14     2\n",
       "15     2\n",
       "16     2\n",
       "17     4\n",
       "18     7\n",
       "19     6\n",
       "20    10\n",
       "21     1\n",
       "22     4\n",
       "23     7\n",
       "24     6\n",
       "25     2\n",
       "26     2\n",
       "27     6\n",
       "28     5\n",
       "29     5\n",
       "Name: NPS Score, dtype: int64"
      ]
     },
     "execution_count": 50,
     "metadata": {},
     "output_type": "execute_result"
    }
   ],
   "source": [
    "# Selecting a row to view the data\n",
    "example_csv_df['NPS Score']"
   ]
  },
  {
   "cell_type": "code",
   "execution_count": 51,
   "metadata": {},
   "outputs": [],
   "source": [
    "# Your turn: Try selecting the CAPEX column to view in data_df "
   ]
  },
  {
   "cell_type": "code",
   "execution_count": 52,
   "metadata": {},
   "outputs": [],
   "source": [
    "# Adding a new column\n",
    "example_csv_df['NPS Score Copy'] = example_csv_df['NPS Score']"
   ]
  },
  {
   "cell_type": "code",
   "execution_count": 53,
   "metadata": {},
   "outputs": [],
   "source": [
    "# Your turn: Try copying the OPEX column in data_df to a new column called \"OPEX Copy\""
   ]
  },
  {
   "cell_type": "code",
   "execution_count": 54,
   "metadata": {},
   "outputs": [
    {
     "name": "stdout",
     "output_type": "stream",
     "text": [
      "6.9333333333333345\n"
     ]
    }
   ],
   "source": [
    "# Row mean\n",
    "example_csv_df['Average Customer Score'] = example_csv_df.mean(axis=1) # axis=1 tells Pandas to do a row wise mean\n",
    "\n",
    "# Column mean\n",
    "column_mean = example_csv_df['Average Customer Score'].mean(axis=0) # axis=0 tells Pandas to do a column wise mean\n",
    "print(column_mean)"
   ]
  },
  {
   "cell_type": "code",
   "execution_count": 55,
   "metadata": {},
   "outputs": [],
   "source": [
    "# Your turn: Try creating a new column in data_df to store the row wise mean\n",
    "\n",
    "\n",
    "# Your turn: Try obtain the column wise mean for the CAPEX column in data_df\n"
   ]
  },
  {
   "cell_type": "code",
   "execution_count": 56,
   "metadata": {},
   "outputs": [],
   "source": [
    "# Total or Sum of each row \n",
    "example_csv_df['Sum of Customer Score'] = example_csv_df.sum(axis=1) "
   ]
  },
  {
   "cell_type": "code",
   "execution_count": 57,
   "metadata": {},
   "outputs": [],
   "source": [
    "# Your turn: Try creating a new column in data_df to store the sum of each column per row"
   ]
  },
  {
   "cell_type": "code",
   "execution_count": 58,
   "metadata": {},
   "outputs": [],
   "source": [
    "# Custom function \n",
    "\n",
    "# This example custom function will square whatever value it gets\n",
    "def custom_function(x):\n",
    "    return x**2 \n",
    "\n",
    "# Create a new column 'Custom Function' which contains the squared value for each customer's NPS score\n",
    "example_csv_df['Custom Function'] = example_csv_df['NPS Score'].apply(custom_function)"
   ]
  },
  {
   "cell_type": "code",
   "execution_count": 59,
   "metadata": {},
   "outputs": [],
   "source": [
    "# Your turn: Create a new custom function called \"multiply_by_3\" and then use that function to create a new column in data_df called \"3x OPEX\" and apply your custom function on the OPEX column \n"
   ]
  },
  {
   "cell_type": "code",
   "execution_count": 67,
   "metadata": {},
   "outputs": [
    {
     "data": {
      "text/html": [
       "<div>\n",
       "<style scoped>\n",
       "    .dataframe tbody tr th:only-of-type {\n",
       "        vertical-align: middle;\n",
       "    }\n",
       "\n",
       "    .dataframe tbody tr th {\n",
       "        vertical-align: top;\n",
       "    }\n",
       "\n",
       "    .dataframe thead th {\n",
       "        text-align: right;\n",
       "    }\n",
       "</style>\n",
       "<table border=\"1\" class=\"dataframe\">\n",
       "  <thead>\n",
       "    <tr style=\"text-align: right;\">\n",
       "      <th></th>\n",
       "      <th>Customer</th>\n",
       "      <th>NPS Score</th>\n",
       "      <th>Network</th>\n",
       "      <th>Customer Service</th>\n",
       "      <th>Value for Money</th>\n",
       "      <th>NPS Score Copy</th>\n",
       "      <th>Average Customer Score</th>\n",
       "      <th>Sum of Customer Score</th>\n",
       "      <th>Custom Function</th>\n",
       "    </tr>\n",
       "  </thead>\n",
       "  <tbody>\n",
       "    <tr>\n",
       "      <th>1</th>\n",
       "      <td>2</td>\n",
       "      <td>3</td>\n",
       "      <td>3</td>\n",
       "      <td>10</td>\n",
       "      <td>9</td>\n",
       "      <td>3</td>\n",
       "      <td>5.000000</td>\n",
       "      <td>35.000000</td>\n",
       "      <td>9</td>\n",
       "    </tr>\n",
       "    <tr>\n",
       "      <th>3</th>\n",
       "      <td>4</td>\n",
       "      <td>3</td>\n",
       "      <td>10</td>\n",
       "      <td>10</td>\n",
       "      <td>8</td>\n",
       "      <td>3</td>\n",
       "      <td>6.333333</td>\n",
       "      <td>44.333333</td>\n",
       "      <td>9</td>\n",
       "    </tr>\n",
       "    <tr>\n",
       "      <th>4</th>\n",
       "      <td>5</td>\n",
       "      <td>4</td>\n",
       "      <td>9</td>\n",
       "      <td>10</td>\n",
       "      <td>5</td>\n",
       "      <td>4</td>\n",
       "      <td>6.166667</td>\n",
       "      <td>43.166667</td>\n",
       "      <td>16</td>\n",
       "    </tr>\n",
       "    <tr>\n",
       "      <th>25</th>\n",
       "      <td>26</td>\n",
       "      <td>2</td>\n",
       "      <td>6</td>\n",
       "      <td>10</td>\n",
       "      <td>7</td>\n",
       "      <td>2</td>\n",
       "      <td>8.833333</td>\n",
       "      <td>61.833333</td>\n",
       "      <td>4</td>\n",
       "    </tr>\n",
       "  </tbody>\n",
       "</table>\n",
       "</div>"
      ],
      "text/plain": [
       "    Customer  NPS Score  Network   Customer Service  Value for Money  \\\n",
       "1          2          3         3                10                9   \n",
       "3          4          3        10                10                8   \n",
       "4          5          4         9                10                5   \n",
       "25        26          2         6                10                7   \n",
       "\n",
       "    NPS Score Copy  Average Customer Score  Sum of Customer Score  \\\n",
       "1                3                5.000000              35.000000   \n",
       "3                3                6.333333              44.333333   \n",
       "4                4                6.166667              43.166667   \n",
       "25               2                8.833333              61.833333   \n",
       "\n",
       "    Custom Function  \n",
       "1                 9  \n",
       "3                 9  \n",
       "4                16  \n",
       "25                4  "
      ]
     },
     "execution_count": 67,
     "metadata": {},
     "output_type": "execute_result"
    }
   ],
   "source": [
    "# Finding rows that match a specific criteria\n",
    "filtered_view = example_csv_df.loc[example_csv_df['Customer Service'] > 9]\n",
    "filtered_view"
   ]
  },
  {
   "cell_type": "code",
   "execution_count": null,
   "metadata": {},
   "outputs": [],
   "source": [
    "# Your turn: Filter out all the OPEX weeks in data_df which were less than 3000"
   ]
  },
  {
   "cell_type": "markdown",
   "metadata": {},
   "source": [
    "## Mini Project: \n",
    "Now that we know the basics of Python and Pandas, lets combine both skills and try our head at some real data and perform some data analysis. \n",
    "\n",
    "1. Import the file \"mini_project_data.csv\"\n",
    "2. Visualize specific columns\n",
    "    - Plot a Histogram plot of \"Income\" (with bins = 100)\n",
    "    - Plot a Pie chart plot of the \"Education\" (use value_counts() )\n",
    "3. Create a new column called \"Income in Euros\" and multiply the income by 0.86 \n",
    "4. Calculate the column average of the column \"MntWines\"\n",
    "5. Find the customer who has spent the most on wines and print out their ID aswell as how much they spent\n",
    "\n",
    "## Extension:\n",
    "If you manage to finish the above tasks, see if you can manage these more advanced Pandas concepts: \n",
    "\n",
    "1. What is the average amount of wine spent people who have kids compared to people without kids? Print out the difference\n",
    "2. Is there a salary difference between people who are graduated compared to people who have a Masters or PhD? What is the difference between each group?"
   ]
  },
  {
   "cell_type": "code",
   "execution_count": 61,
   "metadata": {},
   "outputs": [],
   "source": [
    "# Your turn: Read the in the data and give it a suitable name like \"mini_project_df\"\n"
   ]
  },
  {
   "cell_type": "code",
   "execution_count": 62,
   "metadata": {},
   "outputs": [
    {
     "data": {
      "text/plain": [
       "<matplotlib.axes._subplots.AxesSubplot at 0x1c43e2d9248>"
      ]
     },
     "execution_count": 62,
     "metadata": {},
     "output_type": "execute_result"
    },
    {
     "data": {
      "image/png": "[encoded data removed]",
      "text/plain": [
       "<Figure size 432x288 with 1 Axes>"
      ]
     },
     "metadata": {
      "needs_background": "light"
     },
     "output_type": "display_data"
    }
   ],
   "source": [
    "# Your turn: Visualize the income data as a histogram, use the bins=100 parameter to really see the data!\n"
   ]
  },
  {
   "cell_type": "code",
   "execution_count": 63,
   "metadata": {},
   "outputs": [
    {
     "data": {
      "text/plain": [
       "<matplotlib.axes._subplots.AxesSubplot at 0x1c43e424a48>"
      ]
     },
     "execution_count": 63,
     "metadata": {},
     "output_type": "execute_result"
    },
    {
     "data": {
      "image/png": "[encoded data removed]",
      "text/plain": [
       "<Figure size 432x288 with 1 Axes>"
      ]
     },
     "metadata": {},
     "output_type": "display_data"
    }
   ],
   "source": [
    "# Your turn: Visualize the Education column  as a pie chart, use value_counts to add up each type of education value!\n"
   ]
  },
  {
   "cell_type": "code",
   "execution_count": 64,
   "metadata": {},
   "outputs": [],
   "source": [
    "# Your turn: Create a function that will multiply the Income column by 0.86 and add that data as a new column called \"Income in Euros\"\n",
    "\n"
   ]
  },
  {
   "cell_type": "code",
   "execution_count": 65,
   "metadata": {},
   "outputs": [
    {
     "name": "stdout",
     "output_type": "stream",
     "text": [
      "Average amount spent on wine is $303.9357142857143\n"
     ]
    }
   ],
   "source": [
    "# Your turn: Calculate the column average of the column \"MntWines\"\n"
   ]
  },
  {
   "cell_type": "code",
   "execution_count": 66,
   "metadata": {},
   "outputs": [
    {
     "name": "stdout",
     "output_type": "stream",
     "text": [
      "Customer ID: 737, spent $1493 on wine\n"
     ]
    }
   ],
   "source": [
    "# Your turn: Find the customer who spent the most on wines and print out their ID as well as how much they spent\n"
   ]
  },
  {
   "cell_type": "code",
   "execution_count": null,
   "metadata": {},
   "outputs": [],
   "source": [
    "# Extension, What is the average amount of wine spent people who have kids compared to people without kids?\n",
    "# Print out the difference\n"
   ]
  },
  {
   "cell_type": "code",
   "execution_count": null,
   "metadata": {},
   "outputs": [],
   "source": [
    "# Extension, Is there a salary difference between people who are graduated compared to people who have a Masters or PhD? What is the difference between each group?\n"
   ]
  }
 ],
 "metadata": {
  "interpreter": {
   "hash": "d4b88a7282f62d463edaf161656c19dd29aa55b130908b004c898e5b2bc76789"
  },
  "kernelspec": {
   "display_name": "Python 3.7.4 64-bit",
   "name": "python3"
  },
  "language_info": {
   "codemirror_mode": {
    "name": "ipython",
    "version": 3
   },
   "file_extension": ".py",
   "mimetype": "text/x-python",
   "name": "python",
   "nbconvert_exporter": "python",
   "pygments_lexer": "ipython3",
   "version": "3.7.4"
  },
  "orig_nbformat": 4
 },
 "nbformat": 4,
 "nbformat_minor": 2
}
